{
 "cells": [
  {
   "cell_type": "markdown",
   "metadata": {},
   "source": [
    "# SQL Examples Usage\n",
    "\n",
    "This notebook demonstrates how to use the `SQLExample` class from `nl2sql.knowledge_base.sql_examples`."
   ]
  },
  {
   "cell_type": "code",
   "execution_count": 1,
   "metadata": {},
   "outputs": [
    {
     "name": "stdout",
     "output_type": "stream",
     "text": [
      "/Users/cmcoutosilva/Projects/github/nl2sql-agent\n"
     ]
    }
   ],
   "source": [
    "import os\n",
    "\n",
    "if os.getcwd().endswith(\"notebooks\"):\n",
    "    os.chdir(\"..\")\n",
    "print(os.getcwd())"
   ]
  },
  {
   "cell_type": "code",
   "execution_count": 2,
   "metadata": {},
   "outputs": [],
   "source": [
    "from nl2sql.knowledge_base.sql_examples import SQLExample\n",
    "from nl2sql.utils import print_section"
   ]
  },
  {
   "cell_type": "markdown",
   "metadata": {},
   "source": [
    "## Load SQL Examples from YAML"
   ]
  },
  {
   "cell_type": "code",
   "execution_count": 3,
   "metadata": {},
   "outputs": [
    {
     "name": "stdout",
     "output_type": "stream",
     "text": [
      "Loaded 6 SQL examples\n",
      "\n",
      "Example titles:\n",
      "- total_orders\n",
      "- orders_by_status\n",
      "- top_cities\n",
      "- orders_with_customer\n",
      "- monthly_revenue\n",
      "- popular_categories\n"
     ]
    }
   ],
   "source": [
    "# Load SQL examples from YAML file\n",
    "sql_examples = SQLExample.from_yaml(\"knowledge/sql_examples.yml\")\n",
    "\n",
    "print(f\"Loaded {len(sql_examples)} SQL examples\")\n",
    "print(\"\\nExample titles:\")\n",
    "for title in sql_examples.keys():\n",
    "    print(f\"- {title}\")"
   ]
  },
  {
   "cell_type": "markdown",
   "metadata": {},
   "source": [
    "## Display Individual Examples"
   ]
  },
  {
   "cell_type": "code",
   "execution_count": 4,
   "metadata": {},
   "outputs": [
    {
     "name": "stdout",
     "output_type": "stream",
     "text": [
      "total_orders\n",
      "============\n",
      "Question: How many orders are there in total?\n",
      "```sql\n",
      "SELECT COUNT(*)\n",
      "FROM \"ecommerce\".\"orders\"\n",
      "```\n"
     ]
    }
   ],
   "source": [
    "# Display a specific example\n",
    "example = sql_examples[\"total_orders\"]\n",
    "print_section(\"total_orders\")\n",
    "print(example.format_context())"
   ]
  },
  {
   "cell_type": "code",
   "execution_count": 5,
   "metadata": {},
   "outputs": [
    {
     "name": "stdout",
     "output_type": "stream",
     "text": [
      "All SQL Examples\n",
      "================\n",
      "Question: How many orders are there in total?\n",
      "```sql\n",
      "SELECT COUNT(*)\n",
      "FROM \"ecommerce\".\"orders\"\n",
      "```\n",
      "\n",
      "Question: What is the distribution of orders by status?\n",
      "```sql\n",
      "SELECT \"order_status\",\n",
      "       COUNT(*)\n",
      "FROM \"ecommerce\".\"orders\"\n",
      "GROUP BY \"order_status\"\n",
      "```\n",
      "\n",
      "Question: Which cities have the most customers?\n",
      "```sql\n",
      "SELECT \"customer_city\",\n",
      "       COUNT(*)\n",
      "FROM \"ecommerce\".\"customers\"\n",
      "GROUP BY \"customer_city\"\n",
      "ORDER BY COUNT(*) DESC\n",
      "LIMIT 10\n",
      "```\n",
      "\n",
      "Question: Show me orders with customer information\n",
      "```sql\n",
      "SELECT o.\"order_id\",\n",
      "       o.\"order_status\",\n",
      "       c.\"customer_city\"\n",
      "FROM \"ecommerce\".\"orders\" o\n",
      "JOIN \"ecommerce\".\"customers\" c ON o.\"customer_id\" = c.\"customer_id\"\n",
      "```\n",
      "\n",
      "Question: What is the total revenue by month?\n",
      "```sql\n",
      "SELECT DATE_TRUNC('month', o.\"order_purchase_timestamp\") as month,\n",
      "       SUM(oi.\"price\") as revenue\n",
      "FROM \"ecommerce\".\"orders\" o\n",
      "JOIN \"ecommerce\".\"order_items\" oi ON o.\"order_id\" = oi.\"order_id\"\n",
      "GROUP BY month\n",
      "ORDER BY month\n",
      "```\n",
      "\n",
      "Question: What are the most popular product categories?\n",
      "```sql\n",
      "SELECT p.\"product_category_name\",\n",
      "       COUNT(*)\n",
      "FROM \"ecommerce\".\"order_items\" oi\n",
      "JOIN \"ecommerce\".\"products\" p ON oi.\"product_id\" = p.\"product_id\"\n",
      "GROUP BY p.\"product_category_name\"\n",
      "ORDER BY COUNT(*) DESC\n",
      "```\n"
     ]
    }
   ],
   "source": [
    "# Display all examples\n",
    "print_section(\"All SQL Examples\")\n",
    "formatted_examples = SQLExample.format_all_for_prompt(sql_examples)\n",
    "print(formatted_examples)"
   ]
  },
  {
   "cell_type": "markdown",
   "metadata": {},
   "source": [
    "## Create New SQL Examples"
   ]
  },
  {
   "cell_type": "code",
   "execution_count": 6,
   "metadata": {},
   "outputs": [
    {
     "name": "stdout",
     "output_type": "stream",
     "text": [
      "New Example\n",
      "===========\n",
      "Question: What is the average order value?\n",
      "```sql\n",
      "SELECT AVG(oi.price)\n",
      "FROM ecommerce.order_items oi\n",
      "```\n"
     ]
    }
   ],
   "source": [
    "# Create a new SQL example\n",
    "new_example = SQLExample(\n",
    "    question=\"What is the average order value?\",\n",
    "    sql=\"SELECT AVG(oi.price) FROM ecommerce.order_items oi\"\n",
    ")\n",
    "\n",
    "print_section(\"New Example\")\n",
    "print(new_example.format_context())"
   ]
  },
  {
   "cell_type": "markdown",
   "metadata": {},
   "source": [
    "## Save Examples to YAML"
   ]
  },
  {
   "cell_type": "code",
   "execution_count": 7,
   "metadata": {},
   "outputs": [
    {
     "name": "stdout",
     "output_type": "stream",
     "text": [
      "Saved 7 examples to knowledge/sql_examples_updated.yml\n"
     ]
    }
   ],
   "source": [
    "# Add new example to collection\n",
    "sql_examples[\"avg_order_value\"] = new_example\n",
    "\n",
    "# Save to YAML file\n",
    "output_path = SQLExample.save_yaml(sql_examples, \"knowledge/sql_examples_updated.yml\")\n",
    "print(f\"Saved {len(sql_examples)} examples to {output_path}\")"
   ]
  },
  {
   "cell_type": "markdown",
   "metadata": {},
   "source": [
    "## Access Example Properties"
   ]
  },
  {
   "cell_type": "code",
   "execution_count": 8,
   "metadata": {},
   "outputs": [
    {
     "name": "stdout",
     "output_type": "stream",
     "text": [
      "Example Properties\n",
      "==================\n",
      "Question: What is the distribution of orders by status?\n",
      "SQL: SELECT \"order_status\", COUNT(*) FROM \"ecommerce\".\"orders\" GROUP BY \"order_status\"\n",
      "\n",
      "Formatted context:\n",
      "Question: What is the distribution of orders by status?\n",
      "```sql\n",
      "SELECT \"order_status\",\n",
      "       COUNT(*)\n",
      "FROM \"ecommerce\".\"orders\"\n",
      "GROUP BY \"order_status\"\n",
      "```\n"
     ]
    }
   ],
   "source": [
    "# Access individual properties\n",
    "example = sql_examples[\"orders_by_status\"]\n",
    "print_section(\"Example Properties\")\n",
    "print(f\"Question: {example.question}\")\n",
    "print(f\"SQL: {example.sql}\")\n",
    "print(f\"\\nFormatted context:\\n{example.format_context()}\")"
   ]
  }
 ],
 "metadata": {
  "kernelspec": {
   "display_name": ".venv",
   "language": "python",
   "name": "python3"
  },
  "language_info": {
   "codemirror_mode": {
    "name": "ipython",
    "version": 3
   },
   "file_extension": ".py",
   "mimetype": "text/x-python",
   "name": "python",
   "nbconvert_exporter": "python",
   "pygments_lexer": "ipython3",
   "version": "3.13.3"
  }
 },
 "nbformat": 4,
 "nbformat_minor": 4
}
