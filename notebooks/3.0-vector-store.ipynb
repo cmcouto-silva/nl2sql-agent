{
 "cells": [
  {
   "cell_type": "markdown",
   "id": "ef6a3b21",
   "metadata": {},
   "source": [
    "# Settings"
   ]
  },
  {
   "cell_type": "code",
   "execution_count": 1,
   "id": "2dd75324",
   "metadata": {},
   "outputs": [
    {
     "name": "stdout",
     "output_type": "stream",
     "text": [
      "/Users/cmcoutosilva/Projects/github/nl2sql-agent\n"
     ]
    }
   ],
   "source": [
    "import os\n",
    "\n",
    "if os.getcwd().endswith(\"notebooks\"):\n",
    "    os.chdir(\"..\")\n",
    "print(os.getcwd())"
   ]
  },
  {
   "cell_type": "code",
   "execution_count": 2,
   "id": "1d38eb1e",
   "metadata": {},
   "outputs": [],
   "source": [
    "from langchain_core.documents import Document\n",
    "from langchain_openai.embeddings import OpenAIEmbeddings\n",
    "from langchain_postgres import PGVector\n",
    "\n",
    "from nl2sql.config import load_schema_config\n",
    "from nl2sql.database.postgresql import PostgreSQLConnector\n",
    "from nl2sql.knowledge_base.data_dictionary import DataDictionary\n",
    "from nl2sql.knowledge_base.sql_examples import SQLExample"
   ]
  },
  {
   "cell_type": "code",
   "execution_count": 3,
   "id": "2bada06e",
   "metadata": {},
   "outputs": [],
   "source": [
    "# Set up database connector\n",
    "db_connector = PostgreSQLConnector(config_path=\"configs/database.yml\")\n",
    "\n",
    "# Creates a vector store for the database\n",
    "vector_store = PGVector(\n",
    "    connection=db_connector.engine,\n",
    "    embeddings=OpenAIEmbeddings(),\n",
    "    collection_name=\"nl2sql_embeddings\",\n",
    ")"
   ]
  },
  {
   "cell_type": "markdown",
   "id": "31937c12",
   "metadata": {},
   "source": [
    "# Vector Store"
   ]
  },
  {
   "cell_type": "code",
   "execution_count": 4,
   "id": "57625635",
   "metadata": {},
   "outputs": [],
   "source": [
    "def get_documents_from_data_dictionary(\n",
    "    data_dictionary: DataDictionary,\n",
    ") -> list[Document]:\n",
    "    \"\"\"Get documents from data dictionary.\"\"\"\n",
    "    documents = []\n",
    "\n",
    "    for database_name, database_info in data_dictionary.databases.items():\n",
    "        for schema_name, schema_info in database_info.schemas.items():\n",
    "            for table_name, table_info in schema_info.tables.items():\n",
    "                # Format table information\n",
    "                content = table_info.format_context()\n",
    "\n",
    "                # Create metadata\n",
    "                metadata = {\n",
    "                    \"type\": \"schema\",\n",
    "                    \"database\": database_name,\n",
    "                    \"schema\": schema_name,\n",
    "                    \"table\": table_name,\n",
    "                    \"primary_keys\": \", \".join(table_info.primary_keys),\n",
    "                    \"foreign_keys\": \", \".join(\n",
    "                        col\n",
    "                        for fk in table_info.foreign_keys\n",
    "                        for col in fk[\"constrained_columns\"]\n",
    "                    ),\n",
    "                }\n",
    "\n",
    "                # Create Document object\n",
    "                doc = Document(page_content=content, metadata=metadata)\n",
    "                documents.append(doc)\n",
    "\n",
    "    return documents\n",
    "\n",
    "\n",
    "# Load data dictionary\n",
    "data_dictionary = DataDictionary.from_inspector(\n",
    "    inspector=db_connector.inspector, database_schema=load_schema_config()\n",
    ")"
   ]
  },
  {
   "cell_type": "code",
   "execution_count": 5,
   "id": "428271de",
   "metadata": {},
   "outputs": [
    {
     "data": {
      "text/plain": [
       "[Document(metadata={'type': 'schema', 'database': 'olist_ecommerce', 'schema': 'ecommerce', 'table': 'customers', 'primary_keys': 'customer_id', 'foreign_keys': ''}, page_content='TABLE: customers\\nDESCRIPTION: This dataset has information about the customer and its location. Use it to identify unique customers in the orders dataset and to find the orders delivery location. At our system each order is assigned to a unique customer_id. This means that the same customer will get different ids for different orders. The purpose of having a customer_unique_id on the dataset is to allow you to identify customers that made repurchases at the store. Otherwise you would find that each order had a different customer associated with.\\nPRIMARY KEYS: customer_id\\nCOLUMNS:\\n  - customer_id (TEXT, NOT NULL): key to the orders dataset. Each order has a unique customer_id.\\n  - customer_unique_id (TEXT, NOT NULL): unique identifier of a customer.\\n  - customer_zip_code_prefix (TEXT, NULL): first five digits of customer zip code\\n  - customer_city (TEXT, NULL): customer city name\\n  - customer_state (TEXT, NULL): customer state\\n'),\n",
       " Document(metadata={'type': 'schema', 'database': 'olist_ecommerce', 'schema': 'ecommerce', 'table': 'geolocation', 'primary_keys': 'geolocation_id', 'foreign_keys': ''}, page_content='TABLE: geolocation\\nDESCRIPTION: This dataset has information Brazilian zip codes and its lat/lng coordinates. Use it to plot maps and find distances between sellers and customers.\\nPRIMARY KEYS: geolocation_id\\nCOLUMNS:\\n  - geolocation_id (INTEGER, NOT NULL): Surrogate key for geolocation entries\\n  - geolocation_zip_code_prefix (TEXT, NULL): first 5 digits of zip code\\n  - geolocation_lat (DOUBLE PRECISION, NULL): latitude\\n  - geolocation_lng (DOUBLE PRECISION, NULL): longitude\\n  - geolocation_city (TEXT, NULL): city name\\n  - geolocation_state (TEXT, NULL): state\\n'),\n",
       " Document(metadata={'type': 'schema', 'database': 'olist_ecommerce', 'schema': 'ecommerce', 'table': 'order_items', 'primary_keys': 'order_id, order_item_id', 'foreign_keys': 'order_id, product_id, seller_id'}, page_content='TABLE: order_items\\nDESCRIPTION: This dataset includes data about the items purchased within each order.\\nPRIMARY KEYS: order_id, order_item_id\\nFOREIGN KEYS:\\n  - order_id -> ecommerce.orders.order_id\\n  - product_id -> ecommerce.products.product_id\\n  - seller_id -> ecommerce.sellers.seller_id\\nCOLUMNS:\\n  - order_id (TEXT, NOT NULL): order unique identifier\\n  - order_item_id (INTEGER, NOT NULL): sequential number identifying number of items included in the same order.\\n  - product_id (TEXT, NOT NULL): product unique identifier\\n  - seller_id (TEXT, NOT NULL): seller unique identifier\\n  - shipping_limit_date (TIMESTAMP, NULL): Shows the seller shipping limit date for handling the order over to the logistic partner.\\n  - price (DOUBLE PRECISION, NULL): item price\\n  - freight_value (DOUBLE PRECISION, NULL): item freight value item (if an order has more than one item the freight value is splitted between items)\\n'),\n",
       " Document(metadata={'type': 'schema', 'database': 'olist_ecommerce', 'schema': 'ecommerce', 'table': 'order_payments', 'primary_keys': 'order_id, payment_sequential', 'foreign_keys': 'order_id'}, page_content='TABLE: order_payments\\nDESCRIPTION: This dataset includes data about the orders payment options.\\nPRIMARY KEYS: order_id, payment_sequential\\nFOREIGN KEYS:\\n  - order_id -> ecommerce.orders.order_id\\nCOLUMNS:\\n  - order_id (TEXT, NOT NULL): unique identifier of an order.\\n  - payment_sequential (INTEGER, NOT NULL): a customer may pay an order with more than one payment method. If he does so, a sequence will be created to accommodate all payments.\\n  - payment_type (TEXT, NULL): method of payment chosen by the customer.\\n  - payment_installments (INTEGER, NULL): number of installments chosen by the customer.\\n  - payment_value (DOUBLE PRECISION, NULL): transaction value.\\n'),\n",
       " Document(metadata={'type': 'schema', 'database': 'olist_ecommerce', 'schema': 'ecommerce', 'table': 'order_reviews', 'primary_keys': 'review_id', 'foreign_keys': 'order_id'}, page_content='TABLE: order_reviews\\nDESCRIPTION: This dataset includes data about the reviews made by the customers. After a customer purchases the product from Olist Store a seller gets notified to fulfill that order. Once the customer receives the product, or the estimated delivery date is due, the customer gets a satisfaction survey by email where he can give a note for the purchase experience and write down some comments.\\nPRIMARY KEYS: review_id\\nFOREIGN KEYS:\\n  - order_id -> ecommerce.orders.order_id\\nCOLUMNS:\\n  - review_id (TEXT, NOT NULL): unique review identifier\\n  - order_id (TEXT, NOT NULL): unique order identifier\\n  - review_score (INTEGER, NULL): Note ranging from 1 to 5 given by the customer on a satisfaction survey.\\n  - review_comment_title (TEXT, NULL): Comment title from the review left by the customer, in Portuguese.\\n  - review_comment_message (TEXT, NULL): Comment message from the review left by the customer, in Portuguese.\\n  - review_creation_date (TIMESTAMP, NULL): Shows the date in which the satisfaction survey was sent to the customer.\\n  - review_answer_timestamp (TIMESTAMP, NULL): Shows satisfaction survey answer timestamp.\\n'),\n",
       " Document(metadata={'type': 'schema', 'database': 'olist_ecommerce', 'schema': 'ecommerce', 'table': 'orders', 'primary_keys': 'order_id', 'foreign_keys': 'customer_id'}, page_content='TABLE: orders\\nDESCRIPTION: This is the core dataset. From each order you might find all other information.\\nPRIMARY KEYS: order_id\\nFOREIGN KEYS:\\n  - customer_id -> ecommerce.customers.customer_id\\nCOLUMNS:\\n  - order_id (TEXT, NOT NULL): unique identifier of the order.\\n  - customer_id (TEXT, NOT NULL): key to the customer dataset. Each order has a unique customer_id.\\n  - order_status (TEXT, NULL): Reference to the order status (delivered, shipped, etc).\\n  - order_purchase_timestamp (TIMESTAMP, NULL): Shows the purchase timestamp.\\n  - order_approved_at (TIMESTAMP, NULL): Shows the payment approval timestamp.\\n  - order_delivered_carrier_date (TIMESTAMP, NULL): Shows the order posting timestamp. When it was handled to the logistic partner.\\n  - order_delivered_customer_date (TIMESTAMP, NULL): Shows the actual order delivery date to the customer.\\n  - order_estimated_delivery_date (TIMESTAMP, NULL): Shows the estimated delivery date that was informed to customer at the purchase moment.\\n'),\n",
       " Document(metadata={'type': 'schema', 'database': 'olist_ecommerce', 'schema': 'ecommerce', 'table': 'product_category_name_translations', 'primary_keys': 'product_category_name', 'foreign_keys': ''}, page_content='TABLE: product_category_name_translations\\nDESCRIPTION: Translates the product_category_name to english.\\nPRIMARY KEYS: product_category_name\\nCOLUMNS:\\n  - product_category_name (TEXT, NOT NULL): category name in Portuguese\\n  - product_category_name_english (TEXT, NOT NULL): category name in English\\n'),\n",
       " Document(metadata={'type': 'schema', 'database': 'olist_ecommerce', 'schema': 'ecommerce', 'table': 'products', 'primary_keys': 'product_id', 'foreign_keys': ''}, page_content='TABLE: products\\nDESCRIPTION: This dataset includes data about the products sold by Olist.\\nPRIMARY KEYS: product_id\\nCOLUMNS:\\n  - product_id (TEXT, NOT NULL): unique product identifier\\n  - product_category_name (TEXT, NULL): root category of product, in Portuguese.\\n  - product_name_lenght (INTEGER, NULL): number of characters extracted from the product name.\\n  - product_description_lenght (INTEGER, NULL): number of characters extracted from the product description.\\n  - product_photos_qty (INTEGER, NULL): number of product published photos\\n  - product_weight_g (INTEGER, NULL): product weight measured in grams.\\n  - product_length_cm (INTEGER, NULL): product length measured in centimeters.\\n  - product_height_cm (INTEGER, NULL): product height measured in centimeters.\\n  - product_width_cm (INTEGER, NULL): product width measured in centimeters.\\n'),\n",
       " Document(metadata={'type': 'schema', 'database': 'olist_ecommerce', 'schema': 'ecommerce', 'table': 'sellers', 'primary_keys': 'seller_id', 'foreign_keys': ''}, page_content='TABLE: sellers\\nDESCRIPTION: This dataset includes data about the sellers that fulfilled orders made at Olist. Use it to find the seller location and to identify which seller fulfilled each product.\\nPRIMARY KEYS: seller_id\\nCOLUMNS:\\n  - seller_id (TEXT, NOT NULL): seller unique identifier\\n  - seller_zip_code_prefix (TEXT, NULL): first 5 digits of seller zip code\\n  - seller_city (TEXT, NULL): seller city name\\n  - seller_state (TEXT, NULL): seller state\\n'),\n",
       " Document(metadata={'type': 'schema', 'database': 'olist_ecommerce', 'schema': 'marketing', 'table': 'closed_deals', 'primary_keys': 'mql_id', 'foreign_keys': 'mql_id, seller_id'}, page_content='TABLE: closed_deals\\nDESCRIPTION: After a qualified lead fills in a form at a landing page he is contacted by a Sales Development Representative. At this step some information is checked and more information about the lead is gathered.\\nPRIMARY KEYS: mql_id\\nFOREIGN KEYS:\\n  - mql_id -> marketing.marketing_qualified_leads.mql_id\\n  - seller_id -> ecommerce.sellers.seller_id\\nCOLUMNS:\\n  - mql_id (TEXT, NOT NULL): Marketing Qualified Lead id\\n  - seller_id (TEXT, NULL): Seller id\\n  - sdr_id (TEXT, NULL): Sales Development Representative id\\n  - sr_id (TEXT, NULL): Sales Representative\\n  - won_date (TIMESTAMP, NULL): Date the deal was closed.\\n  - business_segment (TEXT, NULL): Lead business segment. Informed on contact.\\n  - lead_type (TEXT, NULL): Lead type. Informed on contact.\\n  - lead_behaviour_profile (TEXT, NULL): Lead behaviour profile. SDR identify it on contact.\\n  - has_company (TEXT, NULL): Does the lead have a company (formal documentation)?\\n  - has_gtin (TEXT, NULL): Does the lead have Global Trade Item Number (barcode) for his products?\\n  - average_stock (TEXT, NULL): Lead declared average stock. Informed on contact.\\n  - business_type (TEXT, NULL): Type of business (reseller/manufacturer etc.)\\n  - declared_product_catalog_size (DOUBLE PRECISION, NULL): Lead declared catalog size. Informed on contact.\\n  - declared_monthly_revenue (DOUBLE PRECISION, NULL): Lead declared estimated monthly revenue. Informed on contact.\\n'),\n",
       " Document(metadata={'type': 'schema', 'database': 'olist_ecommerce', 'schema': 'marketing', 'table': 'marketing_qualified_leads', 'primary_keys': 'mql_id', 'foreign_keys': ''}, page_content='TABLE: marketing_qualified_leads\\nDESCRIPTION: After a lead fills in a form at a landing page, a filter is made to select the ones that are qualified to sell their products at Olist. They are the Marketing Qualified Leads (MQLs).\\nPRIMARY KEYS: mql_id\\nCOLUMNS:\\n  - mql_id (TEXT, NOT NULL): Marketing Qualified Lead id\\n  - first_contact_date (DATE, NULL): Date of the first contact solicitation.\\n  - landing_page_id (TEXT, NULL): Landing page id where the lead was acquired\\n  - origin (TEXT, NULL): Type of media where the lead was acquired\\n')]"
      ]
     },
     "metadata": {},
     "output_type": "display_data"
    },
    {
     "name": "stdout",
     "output_type": "stream",
     "text": [
      "TABLE: customers\n",
      "DESCRIPTION: This dataset has information about the customer and its location. Use it to identify unique customers in the orders dataset and to find the orders delivery location. At our system each order is assigned to a unique customer_id. This means that the same customer will get different ids for different orders. The purpose of having a customer_unique_id on the dataset is to allow you to identify customers that made repurchases at the store. Otherwise you would find that each order had a different customer associated with.\n",
      "PRIMARY KEYS: customer_id\n",
      "COLUMNS:\n",
      "  - customer_id (TEXT, NOT NULL): key to the orders dataset. Each order has a unique customer_id.\n",
      "  - customer_unique_id (TEXT, NOT NULL): unique identifier of a customer.\n",
      "  - customer_zip_code_prefix (TEXT, NULL): first five digits of customer zip code\n",
      "  - customer_city (TEXT, NULL): customer city name\n",
      "  - customer_state (TEXT, NULL): customer state\n",
      "\n"
     ]
    }
   ],
   "source": [
    "# Get documents from data dictionary\n",
    "shema_documents = get_documents_from_data_dictionary(data_dictionary)\n",
    "display(shema_documents)\n",
    "\n",
    "# Show formatted content for the first document\n",
    "print(shema_documents[0].page_content)"
   ]
  },
  {
   "cell_type": "code",
   "execution_count": 6,
   "id": "dd0125de",
   "metadata": {},
   "outputs": [],
   "source": [
    "def get_documents_from_sql_examples(\n",
    "    sql_examples: dict[str, SQLExample],\n",
    ") -> list[Document]:\n",
    "    \"\"\"Get documents from SQL examples.\"\"\"\n",
    "    documents = []\n",
    "\n",
    "    for title, example in sql_examples.items():\n",
    "        doc_content = example.format_context()\n",
    "        doc_metadata = {\"type\": \"example\", \"title\": title}\n",
    "        documents.append(Document(page_content=doc_content, metadata=doc_metadata))\n",
    "\n",
    "    return documents\n",
    "\n",
    "\n",
    "# Load SQL examples\n",
    "sql_examples = SQLExample.from_yaml(\"knowledge/sql_examples.yml\")"
   ]
  },
  {
   "cell_type": "code",
   "execution_count": 7,
   "id": "839a34a6",
   "metadata": {},
   "outputs": [
    {
     "data": {
      "text/plain": [
       "[Document(metadata={'type': 'example', 'title': 'total_orders'}, page_content='Question: How many orders are there in total?\\n```sql\\nSELECT COUNT(*)\\nFROM \"ecommerce\".\"orders\"\\n```'),\n",
       " Document(metadata={'type': 'example', 'title': 'orders_by_status'}, page_content='Question: What is the distribution of orders by status?\\n```sql\\nSELECT \"order_status\",\\n       COUNT(*)\\nFROM \"ecommerce\".\"orders\"\\nGROUP BY \"order_status\"\\n```'),\n",
       " Document(metadata={'type': 'example', 'title': 'top_cities'}, page_content='Question: Which cities have the most customers?\\n```sql\\nSELECT \"customer_city\",\\n       COUNT(*)\\nFROM \"ecommerce\".\"customers\"\\nGROUP BY \"customer_city\"\\nORDER BY COUNT(*) DESC\\nLIMIT 10\\n```'),\n",
       " Document(metadata={'type': 'example', 'title': 'orders_with_customer'}, page_content='Question: Show me orders with customer information\\n```sql\\nSELECT o.\"order_id\",\\n       o.\"order_status\",\\n       c.\"customer_city\"\\nFROM \"ecommerce\".\"orders\" o\\nJOIN \"ecommerce\".\"customers\" c ON o.\"customer_id\" = c.\"customer_id\"\\n```'),\n",
       " Document(metadata={'type': 'example', 'title': 'monthly_revenue'}, page_content='Question: What is the total revenue by month?\\n```sql\\nSELECT DATE_TRUNC(\\'month\\', o.\"order_purchase_timestamp\") as month,\\n       SUM(oi.\"price\") as revenue\\nFROM \"ecommerce\".\"orders\" o\\nJOIN \"ecommerce\".\"order_items\" oi ON o.\"order_id\" = oi.\"order_id\"\\nGROUP BY month\\nORDER BY month\\n```'),\n",
       " Document(metadata={'type': 'example', 'title': 'popular_categories'}, page_content='Question: What are the most popular product categories?\\n```sql\\nSELECT p.\"product_category_name\",\\n       COUNT(*)\\nFROM \"ecommerce\".\"order_items\" oi\\nJOIN \"ecommerce\".\"products\" p ON oi.\"product_id\" = p.\"product_id\"\\nGROUP BY p.\"product_category_name\"\\nORDER BY COUNT(*) DESC\\n```')]"
      ]
     },
     "metadata": {},
     "output_type": "display_data"
    },
    {
     "name": "stdout",
     "output_type": "stream",
     "text": [
      "Question: How many orders are there in total?\n",
      "```sql\n",
      "SELECT COUNT(*)\n",
      "FROM \"ecommerce\".\"orders\"\n",
      "```\n"
     ]
    }
   ],
   "source": [
    "# Get documents from SQL examples\n",
    "sql_documents = get_documents_from_sql_examples(sql_examples)\n",
    "display(sql_documents)\n",
    "\n",
    "# Show formatted content for the first document\n",
    "print(sql_documents[0].page_content)"
   ]
  },
  {
   "cell_type": "code",
   "execution_count": 8,
   "id": "ccc29498",
   "metadata": {},
   "outputs": [
    {
     "data": {
      "text/plain": [
       "['3ad88a11-1fa3-4f9b-9cce-8b64e3a387b0',\n",
       " '89872387-9524-48fc-9bd6-d2f89742dcaf',\n",
       " '451d3384-0e7a-4f2e-8d1f-19914cc70bd6',\n",
       " '5fbce216-28f6-43a2-9e9a-4d0dae8938d3',\n",
       " '754814c0-93db-432a-833f-41440cd7c021',\n",
       " '1893c923-e3b8-4bc7-87c4-c60d3de5e9a0',\n",
       " 'cbd82500-a16d-443f-9a74-29f70daea121',\n",
       " '9845b4a4-bcda-47cb-beac-b27152f99233',\n",
       " '27f38c76-833a-4d98-a292-30e84c42e885',\n",
       " '7062ea57-6e10-4f4e-ae76-4581ff1ea3f2',\n",
       " '6ec62464-dba4-42bb-ab50-e7568b35888c',\n",
       " '6b5431cf-bd1e-4ed1-baa5-514cd635be64',\n",
       " '69f965ec-2b87-474e-9e3f-0155e60c6390',\n",
       " 'ee129d6b-50d3-4dfd-96a5-6b2d533eb12a',\n",
       " 'a511eefc-9c35-422c-8f8d-c441ff6479ff',\n",
       " 'fc64b075-6acb-4020-ab82-9be2301cc86e',\n",
       " 'b4a07638-841e-4d29-a6ef-113e26b8150b']"
      ]
     },
     "execution_count": 8,
     "metadata": {},
     "output_type": "execute_result"
    }
   ],
   "source": [
    "# Add documents to vector store\n",
    "vector_store.add_documents(shema_documents + sql_documents)"
   ]
  },
  {
   "cell_type": "code",
   "execution_count": 9,
   "id": "7990b09b",
   "metadata": {},
   "outputs": [
    {
     "data": {
      "text/plain": [
       "[Document(id='6b5431cf-bd1e-4ed1-baa5-514cd635be64', metadata={'type': 'example', 'title': 'total_orders'}, page_content='Question: How many orders are there in total?\\n```sql\\nSELECT COUNT(*)\\nFROM \"ecommerce\".\"orders\"\\n```'),\n",
       " Document(id='f4f036a7-d32f-4e04-838b-5fd819400315', metadata={'type': 'example', 'title': 'total_orders'}, page_content='Question: How many orders are there in total?\\n```sql\\nSELECT COUNT(*)\\nFROM \"ecommerce\".\"orders\"\\n```'),\n",
       " Document(id='b1fdf0d1-0c4f-49df-90c4-263a1399a986', metadata={'type': 'example', 'title': 'orders_by_status'}, page_content='Question: What is the distribution of orders by status?\\n```sql\\nSELECT \"order_status\",\\n       COUNT(*)\\nFROM \"ecommerce\".\"orders\"\\nGROUP BY \"order_status\"\\n```'),\n",
       " Document(id='69f965ec-2b87-474e-9e3f-0155e60c6390', metadata={'type': 'example', 'title': 'orders_by_status'}, page_content='Question: What is the distribution of orders by status?\\n```sql\\nSELECT \"order_status\",\\n       COUNT(*)\\nFROM \"ecommerce\".\"orders\"\\nGROUP BY \"order_status\"\\n```')]"
      ]
     },
     "execution_count": 9,
     "metadata": {},
     "output_type": "execute_result"
    }
   ],
   "source": [
    "# Search similar documents\n",
    "vector_store.similarity_search(\"How many orders with review_score > 4?\")"
   ]
  },
  {
   "cell_type": "code",
   "execution_count": 10,
   "id": "7dc08be0",
   "metadata": {},
   "outputs": [
    {
     "data": {
      "text/plain": [
       "[(Document(id='f4f036a7-d32f-4e04-838b-5fd819400315', metadata={'type': 'example', 'title': 'total_orders'}, page_content='Question: How many orders are there in total?\\n```sql\\nSELECT COUNT(*)\\nFROM \"ecommerce\".\"orders\"\\n```'),\n",
       "  0.2258285649367736),\n",
       " (Document(id='6b5431cf-bd1e-4ed1-baa5-514cd635be64', metadata={'type': 'example', 'title': 'total_orders'}, page_content='Question: How many orders are there in total?\\n```sql\\nSELECT COUNT(*)\\nFROM \"ecommerce\".\"orders\"\\n```'),\n",
       "  0.2258285649367736),\n",
       " (Document(id='b1fdf0d1-0c4f-49df-90c4-263a1399a986', metadata={'type': 'example', 'title': 'orders_by_status'}, page_content='Question: What is the distribution of orders by status?\\n```sql\\nSELECT \"order_status\",\\n       COUNT(*)\\nFROM \"ecommerce\".\"orders\"\\nGROUP BY \"order_status\"\\n```'),\n",
       "  0.23915316099841222),\n",
       " (Document(id='69f965ec-2b87-474e-9e3f-0155e60c6390', metadata={'type': 'example', 'title': 'orders_by_status'}, page_content='Question: What is the distribution of orders by status?\\n```sql\\nSELECT \"order_status\",\\n       COUNT(*)\\nFROM \"ecommerce\".\"orders\"\\nGROUP BY \"order_status\"\\n```'),\n",
       "  0.23915316099841222),\n",
       " (Document(id='da6df10b-d2fc-425d-afb1-0ce11350675c', metadata={'type': 'example', 'title': 'top_cities'}, page_content='Question: Which cities have the most customers?\\n```sql\\nSELECT \"customer_city\",\\n       COUNT(*)\\nFROM \"ecommerce\".\"customers\"\\nGROUP BY \"customer_city\"\\nORDER BY COUNT(*) DESC\\nLIMIT 10\\n```'),\n",
       "  0.25081138307980266),\n",
       " (Document(id='ee129d6b-50d3-4dfd-96a5-6b2d533eb12a', metadata={'type': 'example', 'title': 'top_cities'}, page_content='Question: Which cities have the most customers?\\n```sql\\nSELECT \"customer_city\",\\n       COUNT(*)\\nFROM \"ecommerce\".\"customers\"\\nGROUP BY \"customer_city\"\\nORDER BY COUNT(*) DESC\\nLIMIT 10\\n```'),\n",
       "  0.2509380279853257),\n",
       " (Document(id='754814c0-93db-432a-833f-41440cd7c021', metadata={'type': 'schema', 'table': 'order_reviews', 'schema': 'ecommerce', 'database': 'olist_ecommerce', 'foreign_keys': 'order_id', 'primary_keys': 'review_id'}, page_content='TABLE: order_reviews\\nDESCRIPTION: This dataset includes data about the reviews made by the customers. After a customer purchases the product from Olist Store a seller gets notified to fulfill that order. Once the customer receives the product, or the estimated delivery date is due, the customer gets a satisfaction survey by email where he can give a note for the purchase experience and write down some comments.\\nPRIMARY KEYS: review_id\\nFOREIGN KEYS:\\n  - order_id -> ecommerce.orders.order_id\\nCOLUMNS:\\n  - review_id (TEXT, NOT NULL): unique review identifier\\n  - order_id (TEXT, NOT NULL): unique order identifier\\n  - review_score (INTEGER, NULL): Note ranging from 1 to 5 given by the customer on a satisfaction survey.\\n  - review_comment_title (TEXT, NULL): Comment title from the review left by the customer, in Portuguese.\\n  - review_comment_message (TEXT, NULL): Comment message from the review left by the customer, in Portuguese.\\n  - review_creation_date (TIMESTAMP, NULL): Shows the date in which the satisfaction survey was sent to the customer.\\n  - review_answer_timestamp (TIMESTAMP, NULL): Shows satisfaction survey answer timestamp.\\n'),\n",
       "  0.2539849432697845),\n",
       " (Document(id='021d89b5-cc61-4684-8be5-4133ef95d1d8', metadata={'type': 'schema', 'table': 'order_reviews', 'schema': 'ecommerce', 'database': 'olist_ecommerce', 'foreign_keys': 'order_id', 'primary_keys': 'review_id'}, page_content='TABLE: order_reviews\\nDESCRIPTION: This dataset includes data about the reviews made by the customers. After a customer purchases the product from Olist Store a seller gets notified to fulfill that order. Once the customer receives the product, or the estimated delivery date is due, the customer gets a satisfaction survey by email where he can give a note for the purchase experience and write down some comments.\\nPRIMARY KEYS: review_id\\nFOREIGN KEYS:\\n  - order_id -> ecommerce.orders.order_id\\nCOLUMNS:\\n  - review_id (TEXT, NOT NULL): unique review identifier\\n  - order_id (TEXT, NOT NULL): unique order identifier\\n  - review_score (INTEGER, NULL): Note ranging from 1 to 5 given by the customer on a satisfaction survey.\\n  - review_comment_title (TEXT, NULL): Comment title from the review left by the customer, in Portuguese.\\n  - review_comment_message (TEXT, NULL): Comment message from the review left by the customer, in Portuguese.\\n  - review_creation_date (TIMESTAMP, NULL): Shows the date in which the satisfaction survey was sent to the customer.\\n  - review_answer_timestamp (TIMESTAMP, NULL): Shows satisfaction survey answer timestamp.\\n'),\n",
       "  0.2539849432697845),\n",
       " (Document(id='b4a07638-841e-4d29-a6ef-113e26b8150b', metadata={'type': 'example', 'title': 'popular_categories'}, page_content='Question: What are the most popular product categories?\\n```sql\\nSELECT p.\"product_category_name\",\\n       COUNT(*)\\nFROM \"ecommerce\".\"order_items\" oi\\nJOIN \"ecommerce\".\"products\" p ON oi.\"product_id\" = p.\"product_id\"\\nGROUP BY p.\"product_category_name\"\\nORDER BY COUNT(*) DESC\\n```'),\n",
       "  0.26609518932160936),\n",
       " (Document(id='a2a3f259-df84-4ada-8fd4-f3d8781c43fc', metadata={'type': 'example', 'title': 'popular_categories'}, page_content='Question: What are the most popular product categories?\\n```sql\\nSELECT p.\"product_category_name\",\\n       COUNT(*)\\nFROM \"ecommerce\".\"order_items\" oi\\nJOIN \"ecommerce\".\"products\" p ON oi.\"product_id\" = p.\"product_id\"\\nGROUP BY p.\"product_category_name\"\\nORDER BY COUNT(*) DESC\\n```'),\n",
       "  0.26642032065512533)]"
      ]
     },
     "execution_count": 10,
     "metadata": {},
     "output_type": "execute_result"
    }
   ],
   "source": [
    "# Search similar documents with score\n",
    "vector_store.similarity_search_with_score(\n",
    "    \"How many orders with review_score > 4?\", k=10\n",
    ")"
   ]
  }
 ],
 "metadata": {
  "kernelspec": {
   "display_name": ".venv",
   "language": "python",
   "name": "python3"
  },
  "language_info": {
   "codemirror_mode": {
    "name": "ipython",
    "version": 3
   },
   "file_extension": ".py",
   "mimetype": "text/x-python",
   "name": "python",
   "nbconvert_exporter": "python",
   "pygments_lexer": "ipython3",
   "version": "3.13.3"
  }
 },
 "nbformat": 4,
 "nbformat_minor": 5
}
