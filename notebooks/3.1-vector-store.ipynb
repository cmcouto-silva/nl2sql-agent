{
 "cells": [
  {
   "cell_type": "markdown",
   "metadata": {},
   "source": [
    "# Vector Store Usage\n",
    "\n",
    "This notebook demonstrates how to use the `VectorStore` class from `nl2sql.knowledge_base.vector_store`."
   ]
  },
  {
   "cell_type": "code",
   "execution_count": 1,
   "metadata": {},
   "outputs": [
    {
     "name": "stdout",
     "output_type": "stream",
     "text": [
      "/Users/cmcoutosilva/Projects/github/nl2sql-agent\n"
     ]
    }
   ],
   "source": [
    "# Settings\n",
    "import os\n",
    "\n",
    "if os.getcwd().endswith(\"notebooks\"):\n",
    "    os.chdir(\"..\")\n",
    "print(os.getcwd())"
   ]
  },
  {
   "cell_type": "code",
   "execution_count": 2,
   "metadata": {},
   "outputs": [],
   "source": [
    "from nl2sql.database.postgresql import PostgreSQLConnector\n",
    "from nl2sql.knowledge_base.vector_store import VectorStore\n",
    "from nl2sql.knowledge_base.data_dictionary import DataDictionary\n",
    "from nl2sql.knowledge_base.sql_examples import SQLExample\n",
    "from nl2sql.config import load_schema_config\n",
    "from nl2sql.utils import print_section"
   ]
  },
  {
   "cell_type": "markdown",
   "metadata": {},
   "source": [
    "## Initialize Vector Store"
   ]
  },
  {
   "cell_type": "code",
   "execution_count": 3,
   "metadata": {},
   "outputs": [
    {
     "name": "stdout",
     "output_type": "stream",
     "text": [
      "Vector store initialized successfully\n"
     ]
    }
   ],
   "source": [
    "# Set up database connector\n",
    "db_connector = PostgreSQLConnector(config_path=\"configs/database.yml\")\n",
    "\n",
    "# Initialize vector store\n",
    "vector_store = VectorStore(\n",
    "    db_connector,\n",
    "    collection_name=\"nl2sql_demo_embeddings\"\n",
    ")\n",
    "\n",
    "print(\"Vector store initialized successfully\")"
   ]
  },
  {
   "cell_type": "markdown",
   "metadata": {},
   "source": [
    "## Load Knowledge Base Data"
   ]
  },
  {
   "cell_type": "code",
   "execution_count": 4,
   "metadata": {},
   "outputs": [
    {
     "name": "stdout",
     "output_type": "stream",
     "text": [
      "Loaded data dictionary with 1 databases\n",
      "Loaded 6 SQL examples\n"
     ]
    }
   ],
   "source": [
    "# Load data dictionary\n",
    "data_dictionary = DataDictionary.from_inspector(\n",
    "    inspector=db_connector.inspector,\n",
    "    database_schema=load_schema_config()\n",
    ")\n",
    "\n",
    "# Load SQL examples\n",
    "sql_examples = SQLExample.from_yaml(\"knowledge/sql_examples.yml\")\n",
    "\n",
    "print(f\"Loaded data dictionary with {len(data_dictionary.databases)} databases\")\n",
    "print(f\"Loaded {len(sql_examples)} SQL examples\")"
   ]
  },
  {
   "cell_type": "markdown",
   "metadata": {},
   "source": [
    "## Create Documents from Data Dictionary"
   ]
  },
  {
   "cell_type": "code",
   "execution_count": 5,
   "metadata": {},
   "outputs": [
    {
     "name": "stdout",
     "output_type": "stream",
     "text": [
      "Created 11 schema documents\n",
      "First Schema Document\n",
      "=====================\n",
      "Content: TABLE: customers\n",
      "DESCRIPTION: This dataset has information about the customer and its location. Use it to identify unique customers in the orders dataset and to find the orders delivery location. At o...\n",
      "Metadata: {'type': 'schema', 'database': 'olist_ecommerce', 'schema': 'ecommerce', 'table': 'customers', 'primary_keys': 'customer_id', 'foreign_keys': ''}\n"
     ]
    }
   ],
   "source": [
    "# Get documents from data dictionary\n",
    "schema_documents = vector_store.get_documents_from_data_dictionary(data_dictionary)\n",
    "\n",
    "print(f\"Created {len(schema_documents)} schema documents\")\n",
    "print_section(\"First Schema Document\")\n",
    "print(f\"Content: {schema_documents[0].page_content[:200]}...\")\n",
    "print(f\"Metadata: {schema_documents[0].metadata}\")"
   ]
  },
  {
   "cell_type": "markdown",
   "metadata": {},
   "source": [
    "## Create Documents from SQL Examples"
   ]
  },
  {
   "cell_type": "code",
   "execution_count": 6,
   "metadata": {},
   "outputs": [
    {
     "name": "stdout",
     "output_type": "stream",
     "text": [
      "Created 6 SQL example documents\n",
      "First SQL Document\n",
      "==================\n",
      "Content: Question: How many orders are there in total?\n",
      "```sql\n",
      "SELECT COUNT(*)\n",
      "FROM \"ecommerce\".\"orders\"\n",
      "```\n",
      "Metadata: {'type': 'example', 'title': 'total_orders'}\n"
     ]
    }
   ],
   "source": [
    "# Get documents from SQL examples\n",
    "sql_documents = vector_store.get_documents_from_sql_examples(sql_examples)\n",
    "\n",
    "print(f\"Created {len(sql_documents)} SQL example documents\")\n",
    "print_section(\"First SQL Document\")\n",
    "print(f\"Content: {sql_documents[0].page_content}\")\n",
    "print(f\"Metadata: {sql_documents[0].metadata}\")"
   ]
  },
  {
   "cell_type": "markdown",
   "metadata": {},
   "source": [
    "## Add Documents to Vector Store"
   ]
  },
  {
   "cell_type": "code",
   "execution_count": 7,
   "metadata": {},
   "outputs": [
    {
     "name": "stdout",
     "output_type": "stream",
     "text": [
      "Added 17 documents to vector store\n"
     ]
    }
   ],
   "source": [
    "# Combine all documents\n",
    "all_documents = schema_documents + sql_documents\n",
    "\n",
    "# Add to vector store\n",
    "vector_store.add_documents(all_documents)\n",
    "\n",
    "print(f\"Added {len(all_documents)} documents to vector store\")"
   ]
  },
  {
   "cell_type": "markdown",
   "metadata": {},
   "source": [
    "## Search Similar Documents"
   ]
  },
  {
   "cell_type": "code",
   "execution_count": 8,
   "metadata": {},
   "outputs": [
    {
     "name": "stdout",
     "output_type": "stream",
     "text": [
      "Similar documents for: 'How many orders are there?'\n",
      "===================================================\n",
      "\n",
      "1. Type: example\n",
      "   Content: Question: How many orders are there in total?\n",
      "```sql\n",
      "SELECT COUNT(*)\n",
      "FROM \"ecommerce\".\"orders\"\n",
      "```...\n",
      "\n",
      "2. Type: example\n",
      "   Content: Question: What is the distribution of orders by status?\n",
      "```sql\n",
      "SELECT \"order_status\",\n",
      "       COUNT(*)\n",
      "FROM \"ecommerce\".\"...\n",
      "\n",
      "3. Type: schema\n",
      "   Content: TABLE: orders\n",
      "DESCRIPTION: This is the core dataset. From each order you might find all other information.\n",
      "PRIMARY KEYS:...\n"
     ]
    }
   ],
   "source": [
    "# Search for similar documents\n",
    "query = \"How many orders are there?\"\n",
    "similar_docs = vector_store.vectorstore.similarity_search(query, k=3)\n",
    "\n",
    "print_section(f\"Similar documents for: '{query}'\")\n",
    "for i, doc in enumerate(similar_docs, 1):\n",
    "    print(f\"\\n{i}. Type: {doc.metadata.get('type', 'unknown')}\")\n",
    "    print(f\"   Content: {doc.page_content[:120]}...\")"
   ]
  },
  {
   "cell_type": "code",
   "execution_count": 9,
   "metadata": {},
   "outputs": [
    {
     "name": "stdout",
     "output_type": "stream",
     "text": [
      "Similar documents with scores for: 'Show me customer information'\n",
      "=================================================================\n",
      "\n",
      "1. Score: 0.2706\n",
      "   Type: example\n",
      "   Content: Question: Show me orders with customer information\n",
      "```sql\n",
      "SELECT o.\"order_id\",\n",
      "       o.\"order_statu...\n",
      "\n",
      "2. Score: 0.4814\n",
      "   Type: example\n",
      "   Content: Question: Which cities have the most customers?\n",
      "```sql\n",
      "SELECT \"customer_city\",\n",
      "       COUNT(*)\n",
      "FROM ...\n",
      "\n",
      "3. Score: 0.5111\n",
      "   Type: schema\n",
      "   Content: TABLE: customers\n",
      "DESCRIPTION: This dataset has information about the customer and its location. Use ...\n"
     ]
    }
   ],
   "source": [
    "# Search with scores\n",
    "query = \"Show me customer information\"\n",
    "similar_docs_with_scores = vector_store.vectorstore.similarity_search_with_score(query, k=3)\n",
    "\n",
    "print_section(f\"Similar documents with scores for: '{query}'\")\n",
    "for i, (doc, score) in enumerate(similar_docs_with_scores, 1):\n",
    "    print(f\"\\n{i}. Score: {score:.4f}\")\n",
    "    print(f\"   Type: {doc.metadata.get('type', 'unknown')}\")\n",
    "    print(f\"   Content: {doc.page_content[:100]}...\")"
   ]
  },
  {
   "cell_type": "markdown",
   "metadata": {},
   "source": [
    "## Search by Document Type"
   ]
  },
  {
   "cell_type": "code",
   "execution_count": 10,
   "metadata": {},
   "outputs": [
    {
     "name": "stdout",
     "output_type": "stream",
     "text": [
      "Schema documents for: 'customer table structure'\n",
      "================================================\n",
      "\n",
      "1. Table: customers\n",
      "   Schema: ecommerce\n",
      "   Content: TABLE: customers\n",
      "DESCRIPTION: This dataset has information about the customer and its location. Use ...\n",
      "\n",
      "2. Table: orders\n",
      "   Schema: ecommerce\n",
      "   Content: TABLE: orders\n",
      "DESCRIPTION: This is the core dataset. From each order you might find all other inform...\n",
      "\n",
      "3. Table: order_reviews\n",
      "   Schema: ecommerce\n",
      "   Content: TABLE: order_reviews\n",
      "DESCRIPTION: This dataset includes data about the reviews made by the customers...\n",
      "\n",
      "4. Table: order_items\n",
      "   Schema: ecommerce\n",
      "   Content: TABLE: order_items\n",
      "DESCRIPTION: This dataset includes data about the items purchased within each ord...\n",
      "\n",
      "5. Table: order_payments\n",
      "   Schema: ecommerce\n",
      "   Content: TABLE: order_payments\n",
      "DESCRIPTION: This dataset includes data about the orders payment options.\n",
      "PRIM...\n"
     ]
    }
   ],
   "source": [
    "# Search only in schema documents\n",
    "query = \"customer table structure\"\n",
    "schema_results = vector_store.vectorstore.similarity_search(\n",
    "    query, \n",
    "    k=5,\n",
    "    filter={\"type\": \"schema\"}\n",
    ")\n",
    "\n",
    "print_section(f\"Schema documents for: '{query}'\")\n",
    "for i, doc in enumerate(schema_results, 1):\n",
    "    print(f\"\\n{i}. Table: {doc.metadata.get('table', 'unknown')}\")\n",
    "    print(f\"   Schema: {doc.metadata.get('schema', 'unknown')}\")\n",
    "    print(f\"   Content: {doc.page_content[:100]}...\")"
   ]
  }
 ],
 "metadata": {
  "kernelspec": {
   "display_name": ".venv",
   "language": "python",
   "name": "python3"
  },
  "language_info": {
   "codemirror_mode": {
    "name": "ipython",
    "version": 3
   },
   "file_extension": ".py",
   "mimetype": "text/x-python",
   "name": "python",
   "nbconvert_exporter": "python",
   "pygments_lexer": "ipython3",
   "version": "3.13.3"
  }
 },
 "nbformat": 4,
 "nbformat_minor": 4
}
