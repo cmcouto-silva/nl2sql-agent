{
 "cells": [
  {
   "cell_type": "code",
   "execution_count": 1,
   "id": "25a93a76",
   "metadata": {},
   "outputs": [
    {
     "name": "stdout",
     "output_type": "stream",
     "text": [
      "/Users/cmcoutosilva/Projects/github/nl2sql-agent\n"
     ]
    }
   ],
   "source": [
    "import os\n",
    "\n",
    "if os.getcwd().endswith(\"notebooks\"):\n",
    "    os.chdir(\"..\")\n",
    "print(os.getcwd())"
   ]
  },
  {
   "cell_type": "code",
   "execution_count": 2,
   "id": "14ff886a",
   "metadata": {},
   "outputs": [],
   "source": [
    "from loguru import logger\n",
    "from langgraph.checkpoint.postgres import PostgresSaver\n",
    "\n",
    "from psycopg import Connection\n",
    "from psycopg.rows import dict_row\n",
    "\n",
    "from nl2sql.database.postgresql import PostgreSQLConnector\n",
    "from nl2sql.knowledge_base.vector_store import VectorStore"
   ]
  },
  {
   "cell_type": "code",
   "execution_count": 3,
   "id": "738b285b",
   "metadata": {},
   "outputs": [
    {
     "name": "stderr",
     "output_type": "stream",
     "text": [
      "\u001b[32m2025-07-08 06:45:40.149\u001b[0m | \u001b[34m\u001b[1mDEBUG   \u001b[0m | \u001b[36m__main__\u001b[0m:\u001b[36m<module>\u001b[0m:\u001b[36m2\u001b[0m - \u001b[34m\u001b[1mStarting database connection setup...\u001b[0m\n"
     ]
    }
   ],
   "source": [
    "# Instantiate memory\n",
    "logger.debug(\"Starting database connection setup...\")\n",
    "\n",
    "# Setup database connector\n",
    "db_connector = PostgreSQLConnector(config_path=\"configs/database.yml\")\n",
    "postgres_conn = db_connector.get_psycopg_connection()\n",
    "memory = PostgresSaver(conn=postgres_conn)"
   ]
  },
  {
   "cell_type": "code",
   "execution_count": null,
   "id": "6a6a0ea6",
   "metadata": {},
   "outputs": [],
   "source": []
  }
 ],
 "metadata": {
  "kernelspec": {
   "display_name": ".venv",
   "language": "python",
   "name": "python3"
  },
  "language_info": {
   "codemirror_mode": {
    "name": "ipython",
    "version": 3
   },
   "file_extension": ".py",
   "mimetype": "text/x-python",
   "name": "python",
   "nbconvert_exporter": "python",
   "pygments_lexer": "ipython3",
   "version": "3.13.3"
  }
 },
 "nbformat": 4,
 "nbformat_minor": 5
}
