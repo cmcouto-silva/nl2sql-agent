{
 "cells": [
  {
   "cell_type": "markdown",
   "id": "7ca01bbd",
   "metadata": {},
   "source": [
    "# Libraries"
   ]
  },
  {
   "cell_type": "markdown",
   "id": "dfe6a145",
   "metadata": {},
   "source": [
    "Messages:\n",
    "- HumanMessage\n",
    "- AIMessage\n",
    "- SystemMessage\n",
    "\n",
    "LLM Call\n",
    "\n",
    "VectorDatabase"
   ]
  },
  {
   "cell_type": "code",
   "execution_count": 33,
   "id": "08775948",
   "metadata": {},
   "outputs": [],
   "source": [
    "from langchain.chat_models import init_chat_model\n",
    "from langchain.prompts import ChatPromptTemplate"
   ]
  },
  {
   "cell_type": "code",
   "execution_count": 34,
   "id": "c85c4606",
   "metadata": {},
   "outputs": [
    {
     "data": {
      "text/plain": [
       "ChatPromptValue(messages=[SystemMessage(content='You are a helpful assistant.', additional_kwargs={}, response_metadata={}), HumanMessage(content='What is the capital of France?', additional_kwargs={}, response_metadata={})])"
      ]
     },
     "execution_count": 34,
     "metadata": {},
     "output_type": "execute_result"
    }
   ],
   "source": [
    "prompt = ChatPromptTemplate.from_messages(\n",
    "    [\n",
    "        (\"system\", \"You are a helpful assistant.\"),\n",
    "        (\"user\", \"{input}\"),\n",
    "    ]\n",
    ")\n",
    "\n",
    "prompt.invoke({\"input\": \"What is the capital of France?\"})"
   ]
  },
  {
   "cell_type": "markdown",
   "id": "c9a791be",
   "metadata": {},
   "source": [
    "## LLM Call"
   ]
  },
  {
   "cell_type": "code",
   "execution_count": 19,
   "id": "8c79d169",
   "metadata": {},
   "outputs": [
    {
     "data": {
      "text/plain": [
       "AIMessage(content='The capital of France is Paris.', additional_kwargs={'refusal': None}, response_metadata={'token_usage': {'completion_tokens': 7, 'prompt_tokens': 14, 'total_tokens': 21, 'completion_tokens_details': {'accepted_prediction_tokens': 0, 'audio_tokens': 0, 'reasoning_tokens': 0, 'rejected_prediction_tokens': 0}, 'prompt_tokens_details': {'audio_tokens': 0, 'cached_tokens': 0}}, 'model_name': 'gpt-4.1-mini-2025-04-14', 'system_fingerprint': 'fp_6f2eabb9a5', 'id': 'chatcmpl-Bpd4dCBdXuSc0n6sui2tabR2qK8m7', 'service_tier': 'default', 'finish_reason': 'stop', 'logprobs': None}, id='run--7a8dbe50-dced-4b92-a6bc-dfaac01fa286-0', usage_metadata={'input_tokens': 14, 'output_tokens': 7, 'total_tokens': 21, 'input_token_details': {'audio': 0, 'cache_read': 0}, 'output_token_details': {'audio': 0, 'reasoning': 0}})"
      ]
     },
     "metadata": {},
     "output_type": "display_data"
    }
   ],
   "source": [
    "# Instantiate a chat model\n",
    "llm = init_chat_model(\"gpt-4.1-mini\")\n",
    "\n",
    "# Call the model\n",
    "llm_response = llm.invoke(\"What is the capital of France?\")\n",
    "\n",
    "# Print the response\n",
    "display(llm_response)"
   ]
  },
  {
   "cell_type": "code",
   "execution_count": 31,
   "id": "464d3394",
   "metadata": {},
   "outputs": [
    {
     "name": "stdout",
     "output_type": "stream",
     "text": [
      "<class 'langchain_core.messages.ai.AIMessage'>\n",
      "\n",
      "dict_keys(['content', 'additional_kwargs', 'response_metadata', 'type', 'name', 'id', 'example', 'tool_calls', 'invalid_tool_calls', 'usage_metadata'])\n",
      "\n",
      "The capital of France is Paris.\n"
     ]
    }
   ],
   "source": [
    "# What is the type of the response?\n",
    "print(type(llm_response))\n",
    "print()\n",
    "\n",
    "# What are the attributes of the response?\n",
    "print(llm_response.model_dump().keys())\n",
    "print()\n",
    "\n",
    "# What is the content of the response?\n",
    "print(llm_response.content)  # or .pretty_print()"
   ]
  },
  {
   "cell_type": "code",
   "execution_count": 23,
   "id": "66e6fa3a",
   "metadata": {},
   "outputs": [
    {
     "name": "stdout",
     "output_type": "stream",
     "text": [
      "content\n",
      "-------\n",
      "The capital of France is Paris.\n",
      "\n",
      "additional_kwargs\n",
      "-----------------\n",
      "{'refusal': None}\n",
      "\n",
      "response_metadata\n",
      "-----------------\n",
      "{'token_usage': {'completion_tokens': 7, 'prompt_tokens': 14, 'total_tokens': 21, 'completion_tokens_details': {'accepted_prediction_tokens': 0, 'audio_tokens': 0, 'reasoning_tokens': 0, 'rejected_prediction_tokens': 0}, 'prompt_tokens_details': {'audio_tokens': 0, 'cached_tokens': 0}}, 'model_name': 'gpt-4.1-mini-2025-04-14', 'system_fingerprint': 'fp_6f2eabb9a5', 'id': 'chatcmpl-Bpd4dCBdXuSc0n6sui2tabR2qK8m7', 'service_tier': 'default', 'finish_reason': 'stop', 'logprobs': None}\n",
      "\n",
      "type\n",
      "----\n",
      "ai\n",
      "\n",
      "name\n",
      "----\n",
      "None\n",
      "\n",
      "id\n",
      "--\n",
      "run--7a8dbe50-dced-4b92-a6bc-dfaac01fa286-0\n",
      "\n",
      "example\n",
      "-------\n",
      "False\n",
      "\n",
      "tool_calls\n",
      "----------\n",
      "[]\n",
      "\n",
      "invalid_tool_calls\n",
      "------------------\n",
      "[]\n",
      "\n",
      "usage_metadata\n",
      "--------------\n",
      "{'input_tokens': 14, 'output_tokens': 7, 'total_tokens': 21, 'input_token_details': {'audio': 0, 'cache_read': 0}, 'output_token_details': {'audio': 0, 'reasoning': 0}}\n",
      "\n"
     ]
    }
   ],
   "source": [
    "for k, v in llm_response.model_dump().items():\n",
    "    print(k)\n",
    "    print(\"-\" * len(k))\n",
    "    print(v)\n",
    "    print()"
   ]
  },
  {
   "cell_type": "code",
   "execution_count": 10,
   "id": "b5b172c4",
   "metadata": {},
   "outputs": [],
   "source": [
    "obj = llm_response"
   ]
  },
  {
   "cell_type": "code",
   "execution_count": 12,
   "id": "20cdf91a",
   "metadata": {},
   "outputs": [
    {
     "name": "stdout",
     "output_type": "stream",
     "text": [
      "['construct', 'copy', 'dict', 'from_orm', 'get_lc_namespace', 'is_lc_serializable', 'json', 'lc_id', 'model_construct', 'model_copy', 'model_dump', 'model_dump_json', 'model_json_schema', 'model_parametrized_name', 'model_post_init', 'model_rebuild', 'model_validate', 'model_validate_json', 'model_validate_strings', 'parse_file', 'parse_obj', 'parse_raw', 'pretty_print', 'pretty_repr', 'schema', 'schema_json', 'text', 'to_json', 'to_json_not_implemented', 'update_forward_refs', 'validate']\n",
      "[]\n",
      "['additional_kwargs', 'content', 'example', 'id', 'invalid_tool_calls', 'lc_attributes', 'lc_secrets', 'model_computed_fields', 'model_config', 'model_extra', 'model_fields', 'model_fields_set', 'name', 'response_metadata', 'tool_calls', 'type', 'usage_metadata']\n",
      "['additional_kwargs', 'construct', 'content', 'copy', 'dict', 'example', 'from_orm', 'get_lc_namespace', 'id', 'invalid_tool_calls', 'is_lc_serializable', 'json', 'lc_attributes', 'lc_id', 'lc_secrets', 'model_computed_fields', 'model_config', 'model_construct', 'model_copy', 'model_dump', 'model_dump_json', 'model_extra', 'model_fields', 'model_fields_set', 'model_json_schema', 'model_parametrized_name', 'model_post_init', 'model_rebuild', 'model_validate', 'model_validate_json', 'model_validate_strings', 'name', 'parse_file', 'parse_obj', 'parse_raw', 'pretty_print', 'pretty_repr', 'response_metadata', 'schema', 'schema_json', 'text', 'to_json', 'to_json_not_implemented', 'tool_calls', 'type', 'update_forward_refs', 'usage_metadata', 'validate']\n"
     ]
    }
   ],
   "source": [
    "import inspect\n",
    "\n",
    "# Get all public methods\n",
    "public_methods = [\n",
    "    name\n",
    "    for name, method in inspect.getmembers(obj, predicate=inspect.ismethod)\n",
    "    if not name.startswith(\"_\")\n",
    "]\n",
    "\n",
    "# Get all public functions (for classes)\n",
    "public_functions = [\n",
    "    name\n",
    "    for name, func in inspect.getmembers(obj, predicate=inspect.isfunction)\n",
    "    if not name.startswith(\"_\")\n",
    "]\n",
    "\n",
    "# Get all public attributes (non-callable)\n",
    "public_attrs = [\n",
    "    name\n",
    "    for name, attr in inspect.getmembers(obj)\n",
    "    if not name.startswith(\"_\") and not callable(attr)\n",
    "]\n",
    "\n",
    "# Or combine all public members\n",
    "public_members = [\n",
    "    name for name, member in inspect.getmembers(obj) if not name.startswith(\"_\")\n",
    "]\n",
    "\n",
    "print(public_methods)\n",
    "print(public_functions)\n",
    "print(public_attrs)\n",
    "print(public_members)"
   ]
  },
  {
   "cell_type": "code",
   "execution_count": 13,
   "id": "595d1fed",
   "metadata": {},
   "outputs": [
    {
     "data": {
      "text/plain": [
       "{'content': 'The capital of France is Paris.',\n",
       " 'additional_kwargs': {'refusal': None},\n",
       " 'response_metadata': {'token_usage': {'completion_tokens': 7,\n",
       "   'prompt_tokens': 14,\n",
       "   'total_tokens': 21,\n",
       "   'completion_tokens_details': {'accepted_prediction_tokens': 0,\n",
       "    'audio_tokens': 0,\n",
       "    'reasoning_tokens': 0,\n",
       "    'rejected_prediction_tokens': 0},\n",
       "   'prompt_tokens_details': {'audio_tokens': 0, 'cached_tokens': 0}},\n",
       "  'model_name': 'gpt-4.1-mini-2025-04-14',\n",
       "  'system_fingerprint': 'fp_6f2eabb9a5',\n",
       "  'id': 'chatcmpl-BpcvghwOcSz3LZIA1A41xT3DtLsTL',\n",
       "  'service_tier': 'default',\n",
       "  'finish_reason': 'stop',\n",
       "  'logprobs': None},\n",
       " 'type': 'ai',\n",
       " 'name': None,\n",
       " 'id': 'run--181ffe97-8f77-48f8-ad76-02d2d2da9d3d-0',\n",
       " 'example': False,\n",
       " 'tool_calls': [],\n",
       " 'invalid_tool_calls': [],\n",
       " 'usage_metadata': {'input_tokens': 14,\n",
       "  'output_tokens': 7,\n",
       "  'total_tokens': 21,\n",
       "  'input_token_details': {'audio': 0, 'cache_read': 0},\n",
       "  'output_token_details': {'audio': 0, 'reasoning': 0}}}"
      ]
     },
     "execution_count": 13,
     "metadata": {},
     "output_type": "execute_result"
    }
   ],
   "source": [
    "vars(llm_response)"
   ]
  },
  {
   "cell_type": "code",
   "execution_count": 17,
   "id": "e29ff993",
   "metadata": {},
   "outputs": [
    {
     "data": {
      "text/plain": [
       "langchain_core.messages.ai.AIMessage"
      ]
     },
     "execution_count": 17,
     "metadata": {},
     "output_type": "execute_result"
    }
   ],
   "source": [
    "type(llm_response)"
   ]
  },
  {
   "cell_type": "code",
   "execution_count": 16,
   "id": "e7d85399",
   "metadata": {},
   "outputs": [
    {
     "data": {
      "text/plain": [
       "dict_keys(['content', 'additional_kwargs', 'response_metadata', 'type', 'name', 'id', 'example', 'tool_calls', 'invalid_tool_calls', 'usage_metadata'])"
      ]
     },
     "execution_count": 16,
     "metadata": {},
     "output_type": "execute_result"
    }
   ],
   "source": [
    "llm_response.model_dump().keys()"
   ]
  },
  {
   "cell_type": "code",
   "execution_count": 15,
   "id": "fab9f4a5",
   "metadata": {},
   "outputs": [
    {
     "name": "stdout",
     "output_type": "stream",
     "text": [
      "{'content': 'The capital of France is Paris.', 'additional_kwargs': {'refusal': None}, 'response_metadata': {'token_usage': {'completion_tokens': 7, 'prompt_tokens': 14, 'total_tokens': 21, 'completion_tokens_details': {'accepted_prediction_tokens': 0, 'audio_tokens': 0, 'reasoning_tokens': 0, 'rejected_prediction_tokens': 0}, 'prompt_tokens_details': {'audio_tokens': 0, 'cached_tokens': 0}}, 'model_name': 'gpt-4.1-mini-2025-04-14', 'system_fingerprint': 'fp_6f2eabb9a5', 'id': 'chatcmpl-BpcvghwOcSz3LZIA1A41xT3DtLsTL', 'service_tier': 'default', 'finish_reason': 'stop', 'logprobs': None}, 'type': 'ai', 'name': None, 'id': 'run--181ffe97-8f77-48f8-ad76-02d2d2da9d3d-0', 'example': False, 'tool_calls': [], 'invalid_tool_calls': [], 'usage_metadata': {'input_tokens': 14, 'output_tokens': 7, 'total_tokens': 21, 'input_token_details': {'audio': 0, 'cache_read': 0}, 'output_token_details': {'audio': 0, 'reasoning': 0}}}\n"
     ]
    }
   ],
   "source": [
    "if hasattr(obj, \"__dict__\"):\n",
    "    print(vars(obj))"
   ]
  },
  {
   "cell_type": "code",
   "execution_count": null,
   "id": "f3488762",
   "metadata": {},
   "outputs": [],
   "source": [
    "# Instantiate a chat model\n",
    "llm = init_chat_model(\"gpt-4.1-mini\")\n",
    "llm.invoke(\"What is the capital of France?\")\n",
    "\n",
    "\n",
    "# Create a prompt template\n",
    "prompt = ChatPromptTemplate.from_messages(\n",
    "    [\n",
    "        (\"system\", \"You are a helpful assistant.\"),\n",
    "        (\"user\", \"{input}\"),\n",
    "    ]\n",
    ")\n",
    "\n",
    "# Create a chain\n",
    "chain = prompt | llm\n",
    "\n",
    "# Run the chain"
   ]
  },
  {
   "cell_type": "code",
   "execution_count": null,
   "id": "fe11d8dd",
   "metadata": {},
   "outputs": [],
   "source": []
  }
 ],
 "metadata": {
  "kernelspec": {
   "display_name": ".venv",
   "language": "python",
   "name": "python3"
  },
  "language_info": {
   "codemirror_mode": {
    "name": "ipython",
    "version": 3
   },
   "file_extension": ".py",
   "mimetype": "text/x-python",
   "name": "python",
   "nbconvert_exporter": "python",
   "pygments_lexer": "ipython3",
   "version": "3.13.3"
  }
 },
 "nbformat": 4,
 "nbformat_minor": 5
}
