{
 "cells": [
  {
   "cell_type": "markdown",
   "id": "64f7e1c7",
   "metadata": {},
   "source": [
    "# Vanna.AI\n",
    "\n",
    "[Vanna.AI](https://vanna.ai/) is an open-source library to create and execute SQL on your database using LLMs.\n",
    "\n",
    "It implements a RAG approach for providing (\"training\") and retrieving context (schema + examples + domain knowledge) to create SQL queries that can be executed in the database. It also analyzes the query output and creates figures using Plotly.\n",
    "\n",
    "![](https://private-user-images.githubusercontent.com/7146154/299417072-1d2718ad-12a8-4a76-afa2-c61754462f93.gif?jwt=eyJ0eXAiOiJKV1QiLCJhbGciOiJIUzI1NiJ9.eyJpc3MiOiJnaXRodWIuY29tIiwiYXVkIjoicmF3LmdpdGh1YnVzZXJjb250ZW50LmNvbSIsImtleSI6ImtleTUiLCJleHAiOjE3NTY4NDYzNjcsIm5iZiI6MTc1Njg0NjA2NywicGF0aCI6Ii83MTQ2MTU0LzI5OTQxNzA3Mi0xZDI3MThhZC0xMmE4LTRhNzYtYWZhMi1jNjE3NTQ0NjJmOTMuZ2lmP1gtQW16LUFsZ29yaXRobT1BV1M0LUhNQUMtU0hBMjU2JlgtQW16LUNyZWRlbnRpYWw9QUtJQVZDT0RZTFNBNTNQUUs0WkElMkYyMDI1MDkwMiUyRnVzLWVhc3QtMSUyRnMzJTJGYXdzNF9yZXF1ZXN0JlgtQW16LURhdGU9MjAyNTA5MDJUMjA0NzQ3WiZYLUFtei1FeHBpcmVzPTMwMCZYLUFtei1TaWduYXR1cmU9OGRiZDU5NGFhMWQxYTVhNjgzZWE0YTIyN2FiOWNhNTY1NjA5MWIxNzU5MjgyM2QyOGEzYzkyMGE1MTgxMjQwMiZYLUFtei1TaWduZWRIZWFkZXJzPWhvc3QifQ.Bimn4pG6r5ybmCiIU8z9zjuGTyjB-aCFPR1sqUrBVew)\n",
    "\n",
    "This notebook follows the tutorial named [Quickstart With Your Own Data](https://vanna.ai/docs/postgres-openai-standard-chromadb/) from Vanna's documentation."
   ]
  },
  {
   "cell_type": "code",
   "execution_count": 1,
   "id": "4bd00fd7",
   "metadata": {},
   "outputs": [],
   "source": [
    "import os\n",
    "\n",
    "from vanna.openai import OpenAI_Chat\n",
    "from vanna.chromadb import ChromaDB_VectorStore"
   ]
  },
  {
   "cell_type": "markdown",
   "id": "3a80d3f0",
   "metadata": {},
   "source": [
    "Let's first instantiate the a Vanna class and connect it to our database:"
   ]
  },
  {
   "cell_type": "code",
   "execution_count": null,
   "id": "ff9ee0c1",
   "metadata": {},
   "outputs": [],
   "source": [
    "# Create a custom class as per the Vanna documentation\n",
    "class MyVanna(ChromaDB_VectorStore, OpenAI_Chat):\n",
    "    def __init__(self, config=None):\n",
    "        ChromaDB_VectorStore.__init__(self, config=config)\n",
    "        OpenAI_Chat.__init__(self, config=config)\n",
    "\n",
    "# Initialize the Vanna class\n",
    "vn = MyVanna(config={\"api_key\": os.getenv(\"OPENAI_API_KEY\"), \"model\": \"gpt-4.1-mini\"}) # default temperature is 0.7\n",
    "\n",
    "# Connect to the database\n",
    "vn.connect_to_postgres(host=\"localhost\", dbname=\"olist_ecommerce\", user=\"postgres\", password=\"postgres\", port=5432)"
   ]
  },
  {
   "cell_type": "markdown",
   "id": "186664e9",
   "metadata": {},
   "source": [
    "Once connected, we can run SQL code directly:"
   ]
  },
  {
   "cell_type": "code",
   "execution_count": null,
   "id": "84f345fd",
   "metadata": {},
   "outputs": [],
   "source": [
    "vn.run_sql(\"SELECT 1\")"
   ]
  },
  {
   "cell_type": "markdown",
   "id": "e459bc81",
   "metadata": {},
   "source": [
    "So far, no \"training\" has really happened, meaning that the model know nothing about our database.  \n",
    "If we try to ask something, it will hallucinate:"
   ]
  },
  {
   "cell_type": "code",
   "execution_count": null,
   "id": "4d4c2485",
   "metadata": {},
   "outputs": [],
   "source": [
    "# Ask the LLM to generate a SQL query\n",
    "vn.ask(\"What are the 10 most popular product categories?\")"
   ]
  },
  {
   "cell_type": "markdown",
   "id": "3bdf6327",
   "metadata": {},
   "source": [
    "Vanna provides a way to ellaborate a \"plan\" for \"training\" using the inspection of the database directly: "
   ]
  },
  {
   "cell_type": "code",
   "execution_count": null,
   "id": "af80a5ff",
   "metadata": {},
   "outputs": [],
   "source": [
    "# The information schema query may need some tweaking depending on your database. This is a good starting point.\n",
    "df_information_schema = vn.run_sql(\"SELECT * FROM INFORMATION_SCHEMA.COLUMNS\")\n",
    "display(df_information_schema)\n",
    "\n",
    "# Filter target schemas\n",
    "target_schemas = [\"ecommerce\", \"marketing\"]\n",
    "df_information_schema = df_information_schema.query(\"table_schema in @target_schemas\")\n",
    "\n",
    "# This will break up the information schema into bite-sized chunks that can be referenced by the LLM\n",
    "plan = vn.get_training_plan_generic(df_information_schema)\n",
    "plan"
   ]
  },
  {
   "cell_type": "markdown",
   "id": "8d16dccc",
   "metadata": {},
   "source": [
    "We can then train the data (create and populate the vector store for RAG):"
   ]
  },
  {
   "cell_type": "code",
   "execution_count": null,
   "id": "7b5b723c",
   "metadata": {},
   "outputs": [],
   "source": [
    "# If you like the plan, then uncomment this and run it to train\n",
    "vn.train(plan=plan)"
   ]
  },
  {
   "cell_type": "code",
   "execution_count": null,
   "id": "a5f7485f",
   "metadata": {},
   "outputs": [],
   "source": [
    "# At any time you can inspect what training data the package is able to reference\n",
    "training_data = vn.get_training_data()\n",
    "training_data"
   ]
  },
  {
   "cell_type": "markdown",
   "id": "a8be0f4b",
   "metadata": {},
   "source": [
    "Now, let's try re-asking the question we've asked before:"
   ]
  },
  {
   "cell_type": "code",
   "execution_count": null,
   "id": "b7eda033",
   "metadata": {},
   "outputs": [],
   "source": [
    "# Ask the LLM to generate a SQL query\n",
    "result = vn.ask(\"What are the 10 most popular product categories?\")"
   ]
  },
  {
   "cell_type": "code",
   "execution_count": null,
   "id": "0748dfbc",
   "metadata": {},
   "outputs": [],
   "source": [
    "# Output is a tuple with the generated query, the query output, and the plotly figure\n",
    "generated_query, query_output, figure = result\n",
    "\n",
    "# Visualize the outputs\n",
    "print(generated_query)\n",
    "display(query_output)\n",
    "display(figure)"
   ]
  },
  {
   "cell_type": "markdown",
   "id": "38b141fb",
   "metadata": {},
   "source": [
    "## Launch the User Interface"
   ]
  },
  {
   "cell_type": "code",
   "execution_count": null,
   "id": "871cb2b0",
   "metadata": {},
   "outputs": [],
   "source": [
    "from vanna.flask import VannaFlaskApp\n",
    "app = VannaFlaskApp(vn, allow_llm_to_see_data=True)\n",
    "app.run()"
   ]
  },
  {
   "cell_type": "markdown",
   "id": "de0c6eb0",
   "metadata": {},
   "source": [
    "# Troubleshoot\n",
    "\n",
    "- Using models like gpt-5 doesn't work because Vanna passes temperature as parameter, which is unsupported.\n",
    "- We need to specify the API key in the MyVanna class, otherwise we get the error `'MyVanna' object has no attribute 'client'`."
   ]
  }
 ],
 "metadata": {
  "kernelspec": {
   "display_name": ".venv",
   "language": "python",
   "name": "python3"
  },
  "language_info": {
   "codemirror_mode": {
    "name": "ipython",
    "version": 3
   },
   "file_extension": ".py",
   "mimetype": "text/x-python",
   "name": "python",
   "nbconvert_exporter": "python",
   "pygments_lexer": "ipython3",
   "version": "3.13.7"
  }
 },
 "nbformat": 4,
 "nbformat_minor": 5
}
